{
  "nbformat": 4,
  "nbformat_minor": 0,
  "metadata": {
    "colab": {
      "name": "Class2.ipynb",
      "provenance": [],
      "authorship_tag": "ABX9TyOpdZ+pivk/WxjjZWrpV4ns",
      "include_colab_link": true
    },
    "kernelspec": {
      "name": "python3",
      "display_name": "Python 3"
    }
  },
  "cells": [
    {
      "cell_type": "markdown",
      "metadata": {
        "id": "view-in-github",
        "colab_type": "text"
      },
      "source": [
        "<a href=\"https://colab.research.google.com/github/AparnaDSI/Cloud-Computing/blob/master/Class2.ipynb\" target=\"_parent\"><img src=\"https://colab.research.google.com/assets/colab-badge.svg\" alt=\"Open In Colab\"/></a>"
      ]
    },
    {
      "cell_type": "code",
      "metadata": {
        "id": "l21YMUDGc5d8",
        "colab_type": "code",
        "colab": {}
      },
      "source": [
        "def hello ():\n",
        "  print (\"hi\")"
      ],
      "execution_count": 0,
      "outputs": []
    },
    {
      "cell_type": "markdown",
      "metadata": {
        "id": "PX0v5hb7qv9c",
        "colab_type": "text"
      },
      "source": [
        "![alt text](https://user-images.githubusercontent.com/60295261/73124015-23e96800-3f64-11ea-8f04-75a7edbe8ab0.png)"
      ]
    }
  ]
}