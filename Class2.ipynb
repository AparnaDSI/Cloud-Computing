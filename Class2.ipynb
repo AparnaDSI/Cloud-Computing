{
  "nbformat": 4,
  "nbformat_minor": 0,
  "metadata": {
    "colab": {
      "name": "Class2.ipynb",
      "provenance": [],
      "authorship_tag": "ABX9TyNR5G0L1OwZybcXE7DlMhRV",
      "include_colab_link": true
    },
    "kernelspec": {
      "name": "python3",
      "display_name": "Python 3"
    }
  },
  "cells": [
    {
      "cell_type": "markdown",
      "metadata": {
        "id": "view-in-github",
        "colab_type": "text"
      },
      "source": [
        "<a href=\"https://colab.research.google.com/github/AparnaDSI/Cloud-Computing/blob/master/Class2.ipynb\" target=\"_parent\"><img src=\"https://colab.research.google.com/assets/colab-badge.svg\" alt=\"Open In Colab\"/></a>"
      ]
    },
    {
      "cell_type": "code",
      "metadata": {
        "id": "M8xMfQ3ec4t-",
        "colab_type": "code",
        "colab": {}
      },
      "source": [
        ""
      ],
      "execution_count": 0,
      "outputs": []
    },
    {
      "cell_type": "code",
      "metadata": {
        "id": "l21YMUDGc5d8",
        "colab_type": "code",
        "colab": {}
      },
      "source": [
        "def hello ():\n",
        "  print (\"hi\")"
      ],
      "execution_count": 0,
      "outputs": []
    }
  ]
}